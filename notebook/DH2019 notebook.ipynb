{
 "cells": [
  {
   "cell_type": "code",
   "execution_count": 2,
   "metadata": {},
   "outputs": [],
   "source": [
    "# notebook for settings generation"
   ]
  },
  {
   "cell_type": "code",
   "execution_count": 3,
   "metadata": {},
   "outputs": [
    {
     "name": "stderr",
     "output_type": "stream",
     "text": [
      "/Users/seanpue/MyWorkspace/urdubiometer/urdubiometer/graphparser/validate.py:56: YAMLLoadWarning: calling yaml.load() without Loader=... is deprecated, as the default Loader is unsafe. Please read https://msg.pyyaml.org/load for full details.\n",
      "  onmatch_regex=ONMATCH_RE.pattern)\n"
     ]
    }
   ],
   "source": [
    "import urdubiometer as ubm\n",
    "from graphtransliterator import GraphTransliterator\n",
    "urduGT = GraphTransliterator.from_yaml_file(\"../../transliterate/urdu.yml\")\n",
    "scholarlyGT = GraphTransliterator.from_yaml_file(\"../../transliterate/transliteration.yml\")\n",
    "hindiGT = GraphTransliterator.from_yaml_file('../../transliterate/devanagari.yaml')"
   ]
  },
  {
   "cell_type": "code",
   "execution_count": 4,
   "metadata": {},
   "outputs": [],
   "source": [
    "lines = '''bol kih lab aazaad hai;n tere\n",
    "bol zabaa;n ab tak terii hai\n",
    "teraa sutvaa;n jism hai teraa\n",
    "bol kih jaa;n ab tak terii hai\n",
    "dekh kih aahangar kii dukaa;n me;n\n",
    "tund hai;n shole sur;x hai aahan\n",
    "khulne lage quflo;n ke dahaane\n",
    "phailaa har ik zanjiir kaa daaman\n",
    "bol yah tho;raa vaqt bahut hai\n",
    "jism-o-zabaa;n kii maut se pahle\n",
    "bol kih sach zindah hai ab tak\n",
    "bol jo kuchh kahnaa hai kah le'''.split('\\n')\n",
    "\n",
    "lines_en = '''Speak, for your lips are free\n",
    "Speak, for your tongue is still yours\n",
    "Your long-suffering body is yours\n",
    "Speak, for your life is still your own\n",
    "Speak, for in the blacksmith's shop\n",
    "The flames are fierce, the iron red\n",
    "The mouths of locks have begun to open\n",
    "The skirt of every chain is outspread\n",
    "Speak, this little time is enough\n",
    "Before the death of the body and tongue\n",
    "Speak, for truth is still alive\n",
    "Speak, say what must be said\n",
    "'''.split(\"\\n\")\n",
    "\n",
    "lines_ur = [urduGT.transliterate(line) for line in lines]\n",
    "lines_trans = [scholarlyGT.transliterate(line) for line in lines]\n",
    "lines_hi = [hindiGT.transliterate(line) for line in lines]"
   ]
  },
  {
   "cell_type": "code",
   "execution_count": 5,
   "metadata": {},
   "outputs": [],
   "source": [
    "def vocalize(line):\n",
    "    def show_arab(token):\n",
    "        replacements = [ ('a', '^a'),\n",
    "                         ('i', '^i'),\n",
    "                         ('u', '^u'),\n",
    "                         ('ai', '^ai'),\n",
    "                         ('au', '^au'),\n",
    "                         ('uu', '^uu')]\n",
    "        for a, b in replacements:\n",
    "            if token == a:\n",
    "                token = b\n",
    "        return token\n",
    "    return ''.join([show_arab(token) for token in urduGT.tokenize(line)])\n"
   ]
  },
  {
   "cell_type": "code",
   "execution_count": 6,
   "metadata": {},
   "outputs": [
    {
     "name": "stderr",
     "output_type": "stream",
     "text": [
      "/Users/seanpue/MyWorkspace/urdubiometer/urdubiometer/graphparser/graphparser.py:541: YAMLLoadWarning: calling yaml.load() without Loader=... is deprecated, as the default Loader is unsafe. Please read https://msg.pyyaml.org/load for full details.\n",
      "  data = yaml.load(yaml_str)\n",
      "/Users/seanpue/MyWorkspace/urdubiometer/urdubiometer/graphparser/validate.py:105: YAMLLoadWarning: calling yaml.load() without Loader=... is deprecated, as the default Loader is unsafe. Please read https://msg.pyyaml.org/load for full details.\n",
      "  \"\"\")\n",
      "/Users/seanpue/MyWorkspace/urdubiometer/urdubiometer/scanner/default.py:42: YAMLLoadWarning: calling yaml.load() without Loader=... is deprecated, as the default Loader is unsafe. Please read https://msg.pyyaml.org/load for full details.\n",
      "  return yaml.load(f.read())\n",
      "/Users/seanpue/MyWorkspace/urdubiometer/urdubiometer/scanner/validate.py:108: YAMLLoadWarning: calling yaml.load() without Loader=... is deprecated, as the default Loader is unsafe. Please read https://msg.pyyaml.org/load for full details.\n",
      "  schema = yaml.load(schema_str)\n",
      "/Users/seanpue/MyWorkspace/urdubiometer/urdubiometer/scanner/validate.py:146: YAMLLoadWarning: calling yaml.load() without Loader=... is deprecated, as the default Loader is unsafe. Please read https://msg.pyyaml.org/load for full details.\n",
      "  \"\"\"\n"
     ]
    }
   ],
   "source": [
    "scanner = ubm.DefaultScanner(meters_list=[{'id':0, 'name': \"Faiz\", \"regex_pattern\": \"=(=|--)===(=|--)==\"}])\n"
   ]
  },
  {
   "cell_type": "code",
   "execution_count": 7,
   "metadata": {},
   "outputs": [],
   "source": [
    "scans = [scanner.scan(line, graph_details=True)[0] for line in lines]"
   ]
  },
  {
   "cell_type": "code",
   "execution_count": 9,
   "metadata": {},
   "outputs": [
    {
     "ename": "SyntaxError",
     "evalue": "invalid syntax (<ipython-input-9-6263a0c83578>, line 10)",
     "output_type": "error",
     "traceback": [
      "\u001b[0;36m  File \u001b[0;32m\"<ipython-input-9-6263a0c83578>\"\u001b[0;36m, line \u001b[0;32m10\u001b[0m\n\u001b[0;31m    labels['hi'].append(hindiGT.transliterate(orig_tokens).replace(\" \", \"·\")   )\u001b[0m\n\u001b[0m         ^\u001b[0m\n\u001b[0;31mSyntaxError\u001b[0m\u001b[0;31m:\u001b[0m invalid syntax\n"
     ]
    }
   ],
   "source": [
    "labels_of = {} # \"1\" -> verse 1\n",
    "\n",
    "for scan_id, scan in enumerate(scans):\n",
    "    labels = {'orig': [], 'en': [], 'ur': [], 'hi': []}\n",
    "    for match in scan.matches:\n",
    "        orig_tokens = ''.join(match.orig_tokens)\n",
    "        labels['orig'].append(orig_tokens)\n",
    "        labels['en'].append(scholarlyGT.transliterate(orig_tokens).replace(\" \", \"·\"))\n",
    "        labels['ur'].append(urduGT.transliterate(orig_tokens)#.replace(\" \", \"·\"))\n",
    "        labels['hi'].append(hindiGT.transliterate(orig_tokens).replace(\" \", \"·\")   )\n",
    "    labels_of[scan_id+1] = labels"
   ]
  },
  {
   "cell_type": "code",
   "execution_count": 20,
   "metadata": {},
   "outputs": [],
   "source": [
    "tokens = set()\n",
    "for scan in scans:\n",
    "    for match in scan.matches:\n",
    "        for _ in match.orig_tokens:\n",
    "            tokens.add(_)\n",
    "token_trans = {}\n",
    "vowels_to_mark = set(['a', 'i', 'u', 'ii', 'au', 'ai'])\n",
    "for token in tokens:\n",
    "    token_trans[token] = {}\n",
    "    \n",
    "    token_trans[token]['en'] = scholarlyGT.transliterate(token)\n",
    "    token_trans[token]['hi'] = hindiGT.transliterate(token)\n",
    "    if token in vowels_to_mark:\n",
    "        token_ur = '^' + token\n",
    "    else:\n",
    "        token_ur = token\n",
    "    token_trans[token]['ur'] = urduGT.transliterate(token_ur)\n",
    "    "
   ]
  },
  {
   "cell_type": "code",
   "execution_count": 21,
   "metadata": {},
   "outputs": [],
   "source": [
    "settings = {\n",
    "    'lines': {\n",
    "        '_raw': lines,\n",
    "        'ur': lines_ur,\n",
    "        'en': lines_en,\n",
    "        'hi': lines_hi\n",
    "    },\n",
    "    'scans': {str(i+1):scan for i, scan in enumerate(scans)},\n",
    "    'labels_of': labels_of,\n",
    "    'token_trans': token_trans\n",
    "}\n",
    "\n",
    "import json\n",
    "with open(\"../settings.js\", \"w\") as f:\n",
    "    f.write(\"settings=\"+json.dumps(settings))\n"
   ]
  },
  {
   "cell_type": "code",
   "execution_count": null,
   "metadata": {},
   "outputs": [],
   "source": []
  }
 ],
 "metadata": {
  "kernelspec": {
   "display_name": "Python 3",
   "language": "python",
   "name": "python3"
  },
  "language_info": {
   "codemirror_mode": {
    "name": "ipython",
    "version": 3
   },
   "file_extension": ".py",
   "mimetype": "text/x-python",
   "name": "python",
   "nbconvert_exporter": "python",
   "pygments_lexer": "ipython3",
   "version": "3.6.4"
  }
 },
 "nbformat": 4,
 "nbformat_minor": 2
}
